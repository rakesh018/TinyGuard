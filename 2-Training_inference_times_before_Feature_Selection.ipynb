{
 "cells": [
  {
   "cell_type": "markdown",
   "id": "be3c7039-ee61-4e5e-bdcb-d9ac5130df70",
   "metadata": {},
   "source": [
    "This Notebook contains the code for training and measuring training time, inference time of the XGB, Naive Bayes. They are evaluated over dataset of various sizes like 3.5M,350k,35000 rows. These are evaluated before feature selection"
   ]
  },
  {
   "cell_type": "code",
   "execution_count": 25,
   "id": "aec9b7f9",
   "metadata": {},
   "outputs": [],
   "source": [
    "import pandas as pd\n",
    "import matplotlib.pyplot as plt\n",
    "import plotly.graph_objects as go\n",
    "import numpy as np\n",
    "\n",
    "from sklearn.preprocessing import LabelEncoder\n",
    "from sklearn.preprocessing import StandardScaler\n",
    "from sklearn.model_selection import train_test_split\n",
    "from sklearn.metrics import roc_auc_score, confusion_matrix, ConfusionMatrixDisplay, classification_report,roc_curve\n",
    "\n",
    "import xgboost as xgb\n",
    "from sklearn.model_selection import GridSearchCV\n",
    "\n",
    "from sklearn.naive_bayes import GaussianNB\n",
    "from sklearn.tree import DecisionTreeClassifier\n",
    "from sklearn.ensemble import RandomForestClassifier\n",
    "from sklearn.linear_model import LogisticRegression\n",
    "from sklearn.multiclass import OneVsOneClassifier\n",
    "\n",
    "import warnings\n",
    "warnings.filterwarnings('ignore')"
   ]
  },
  {
   "cell_type": "code",
   "execution_count": 26,
   "id": "3fb649f2",
   "metadata": {},
   "outputs": [],
   "source": [
    "df = pd.read_csv(\"iot23_final_preprocessed.csv\")"
   ]
  },
  {
   "cell_type": "code",
   "execution_count": 27,
   "id": "6ad48550",
   "metadata": {},
   "outputs": [
    {
     "data": {
      "text/html": [
       "<div>\n",
       "<style scoped>\n",
       "    .dataframe tbody tr th:only-of-type {\n",
       "        vertical-align: middle;\n",
       "    }\n",
       "\n",
       "    .dataframe tbody tr th {\n",
       "        vertical-align: top;\n",
       "    }\n",
       "\n",
       "    .dataframe thead th {\n",
       "        text-align: right;\n",
       "    }\n",
       "</style>\n",
       "<table border=\"1\" class=\"dataframe\">\n",
       "  <thead>\n",
       "    <tr style=\"text-align: right;\">\n",
       "      <th></th>\n",
       "      <th>Unnamed: 0</th>\n",
       "      <th>duration</th>\n",
       "      <th>orig_bytes</th>\n",
       "      <th>resp_bytes</th>\n",
       "      <th>orig_pkts</th>\n",
       "      <th>resp_pkts</th>\n",
       "      <th>label</th>\n",
       "      <th>proto_tcp</th>\n",
       "      <th>proto_udp</th>\n",
       "      <th>conn_state_REJ</th>\n",
       "      <th>...</th>\n",
       "      <th>conn_state_S3</th>\n",
       "      <th>conn_state_SF</th>\n",
       "      <th>conn_state_SH</th>\n",
       "      <th>conn_state_SHR</th>\n",
       "      <th>service_dhcp</th>\n",
       "      <th>service_dns</th>\n",
       "      <th>service_http</th>\n",
       "      <th>service_irc</th>\n",
       "      <th>service_ssh</th>\n",
       "      <th>service_ssl</th>\n",
       "    </tr>\n",
       "  </thead>\n",
       "  <tbody>\n",
       "    <tr>\n",
       "      <th>0</th>\n",
       "      <td>20</td>\n",
       "      <td>0.000061</td>\n",
       "      <td>0.0</td>\n",
       "      <td>0.0</td>\n",
       "      <td>3.0</td>\n",
       "      <td>0.0</td>\n",
       "      <td>PartOfAHorizontalPortScan</td>\n",
       "      <td>1.0</td>\n",
       "      <td>0.0</td>\n",
       "      <td>0.0</td>\n",
       "      <td>...</td>\n",
       "      <td>0.0</td>\n",
       "      <td>0.0</td>\n",
       "      <td>0.0</td>\n",
       "      <td>0.0</td>\n",
       "      <td>0.0</td>\n",
       "      <td>0.0</td>\n",
       "      <td>0.0</td>\n",
       "      <td>0.0</td>\n",
       "      <td>0.0</td>\n",
       "      <td>0.0</td>\n",
       "    </tr>\n",
       "    <tr>\n",
       "      <th>1</th>\n",
       "      <td>21</td>\n",
       "      <td>0.000000</td>\n",
       "      <td>0.0</td>\n",
       "      <td>0.0</td>\n",
       "      <td>1.0</td>\n",
       "      <td>0.0</td>\n",
       "      <td>PartOfAHorizontalPortScan</td>\n",
       "      <td>1.0</td>\n",
       "      <td>0.0</td>\n",
       "      <td>0.0</td>\n",
       "      <td>...</td>\n",
       "      <td>0.0</td>\n",
       "      <td>0.0</td>\n",
       "      <td>0.0</td>\n",
       "      <td>0.0</td>\n",
       "      <td>0.0</td>\n",
       "      <td>0.0</td>\n",
       "      <td>0.0</td>\n",
       "      <td>0.0</td>\n",
       "      <td>0.0</td>\n",
       "      <td>0.0</td>\n",
       "    </tr>\n",
       "    <tr>\n",
       "      <th>2</th>\n",
       "      <td>23</td>\n",
       "      <td>0.000061</td>\n",
       "      <td>0.0</td>\n",
       "      <td>0.0</td>\n",
       "      <td>3.0</td>\n",
       "      <td>0.0</td>\n",
       "      <td>PartOfAHorizontalPortScan</td>\n",
       "      <td>1.0</td>\n",
       "      <td>0.0</td>\n",
       "      <td>0.0</td>\n",
       "      <td>...</td>\n",
       "      <td>0.0</td>\n",
       "      <td>0.0</td>\n",
       "      <td>0.0</td>\n",
       "      <td>0.0</td>\n",
       "      <td>0.0</td>\n",
       "      <td>0.0</td>\n",
       "      <td>0.0</td>\n",
       "      <td>0.0</td>\n",
       "      <td>0.0</td>\n",
       "      <td>0.0</td>\n",
       "    </tr>\n",
       "    <tr>\n",
       "      <th>3</th>\n",
       "      <td>24</td>\n",
       "      <td>0.000000</td>\n",
       "      <td>0.0</td>\n",
       "      <td>0.0</td>\n",
       "      <td>1.0</td>\n",
       "      <td>0.0</td>\n",
       "      <td>PartOfAHorizontalPortScan</td>\n",
       "      <td>1.0</td>\n",
       "      <td>0.0</td>\n",
       "      <td>0.0</td>\n",
       "      <td>...</td>\n",
       "      <td>0.0</td>\n",
       "      <td>0.0</td>\n",
       "      <td>0.0</td>\n",
       "      <td>0.0</td>\n",
       "      <td>0.0</td>\n",
       "      <td>0.0</td>\n",
       "      <td>0.0</td>\n",
       "      <td>0.0</td>\n",
       "      <td>0.0</td>\n",
       "      <td>0.0</td>\n",
       "    </tr>\n",
       "    <tr>\n",
       "      <th>4</th>\n",
       "      <td>27</td>\n",
       "      <td>0.000000</td>\n",
       "      <td>0.0</td>\n",
       "      <td>0.0</td>\n",
       "      <td>1.0</td>\n",
       "      <td>0.0</td>\n",
       "      <td>Benign</td>\n",
       "      <td>1.0</td>\n",
       "      <td>0.0</td>\n",
       "      <td>0.0</td>\n",
       "      <td>...</td>\n",
       "      <td>0.0</td>\n",
       "      <td>0.0</td>\n",
       "      <td>0.0</td>\n",
       "      <td>0.0</td>\n",
       "      <td>0.0</td>\n",
       "      <td>0.0</td>\n",
       "      <td>0.0</td>\n",
       "      <td>0.0</td>\n",
       "      <td>0.0</td>\n",
       "      <td>0.0</td>\n",
       "    </tr>\n",
       "  </tbody>\n",
       "</table>\n",
       "<p>5 rows × 27 columns</p>\n",
       "</div>"
      ],
      "text/plain": [
       "   Unnamed: 0  duration  orig_bytes  resp_bytes  orig_pkts  resp_pkts  \\\n",
       "0          20  0.000061         0.0         0.0        3.0        0.0   \n",
       "1          21  0.000000         0.0         0.0        1.0        0.0   \n",
       "2          23  0.000061         0.0         0.0        3.0        0.0   \n",
       "3          24  0.000000         0.0         0.0        1.0        0.0   \n",
       "4          27  0.000000         0.0         0.0        1.0        0.0   \n",
       "\n",
       "                       label  proto_tcp  proto_udp  conn_state_REJ  ...  \\\n",
       "0  PartOfAHorizontalPortScan        1.0        0.0             0.0  ...   \n",
       "1  PartOfAHorizontalPortScan        1.0        0.0             0.0  ...   \n",
       "2  PartOfAHorizontalPortScan        1.0        0.0             0.0  ...   \n",
       "3  PartOfAHorizontalPortScan        1.0        0.0             0.0  ...   \n",
       "4                     Benign        1.0        0.0             0.0  ...   \n",
       "\n",
       "   conn_state_S3  conn_state_SF  conn_state_SH  conn_state_SHR  service_dhcp  \\\n",
       "0            0.0            0.0            0.0             0.0           0.0   \n",
       "1            0.0            0.0            0.0             0.0           0.0   \n",
       "2            0.0            0.0            0.0             0.0           0.0   \n",
       "3            0.0            0.0            0.0             0.0           0.0   \n",
       "4            0.0            0.0            0.0             0.0           0.0   \n",
       "\n",
       "   service_dns  service_http  service_irc  service_ssh  service_ssl  \n",
       "0          0.0           0.0          0.0          0.0          0.0  \n",
       "1          0.0           0.0          0.0          0.0          0.0  \n",
       "2          0.0           0.0          0.0          0.0          0.0  \n",
       "3          0.0           0.0          0.0          0.0          0.0  \n",
       "4          0.0           0.0          0.0          0.0          0.0  \n",
       "\n",
       "[5 rows x 27 columns]"
      ]
     },
     "execution_count": 27,
     "metadata": {},
     "output_type": "execute_result"
    }
   ],
   "source": [
    "df.head()"
   ]
  },
  {
   "cell_type": "code",
   "execution_count": 28,
   "id": "9b02bea9-c295-4848-8e60-ca9462a9b36c",
   "metadata": {},
   "outputs": [
    {
     "name": "stdout",
     "output_type": "stream",
     "text": [
      "Index(['Unnamed: 0', 'duration', 'orig_bytes', 'resp_bytes', 'orig_pkts',\n",
      "       'resp_pkts', 'label', 'proto_tcp', 'proto_udp', 'conn_state_REJ',\n",
      "       'conn_state_RSTO', 'conn_state_RSTOS0', 'conn_state_RSTR',\n",
      "       'conn_state_RSTRH', 'conn_state_S0', 'conn_state_S1', 'conn_state_S2',\n",
      "       'conn_state_S3', 'conn_state_SF', 'conn_state_SH', 'conn_state_SHR',\n",
      "       'service_dhcp', 'service_dns', 'service_http', 'service_irc',\n",
      "       'service_ssh', 'service_ssl'],\n",
      "      dtype='object')\n"
     ]
    }
   ],
   "source": [
    "\n",
    "\n",
    "print(df.columns)"
   ]
  },
  {
   "cell_type": "code",
   "execution_count": 29,
   "id": "2b66ea7c",
   "metadata": {},
   "outputs": [
    {
     "data": {
      "text/plain": [
       "array(['PartOfAHorizontalPortScan', 'Benign', 'Okiru', 'DDoS',\n",
       "       'C&C-HeartBeat', 'C&C', 'Attack'], dtype=object)"
      ]
     },
     "execution_count": 29,
     "metadata": {},
     "output_type": "execute_result"
    }
   ],
   "source": [
    "df['label'].unique()"
   ]
  },
  {
   "cell_type": "code",
   "execution_count": 30,
   "id": "bc9b6063",
   "metadata": {},
   "outputs": [
    {
     "data": {
      "text/plain": [
       "label\n",
       "PartOfAHorizontalPortScan    825417\n",
       "Okiru                        262503\n",
       "Benign                       197274\n",
       "DDoS                         138718\n",
       "C&C                           15003\n",
       "Attack                         3914\n",
       "C&C-HeartBeat                   308\n",
       "Name: count, dtype: int64"
      ]
     },
     "execution_count": 30,
     "metadata": {},
     "output_type": "execute_result"
    }
   ],
   "source": [
    "df['label'].value_counts()"
   ]
  },
  {
   "cell_type": "code",
   "execution_count": 31,
   "id": "e1d12187",
   "metadata": {},
   "outputs": [],
   "source": [
    "df['label'] = df['label'].apply(lambda x: 0 if x == 'Benign' else 1)\n"
   ]
  },
  {
   "cell_type": "markdown",
   "id": "dc70a24f",
   "metadata": {},
   "source": [
    "  "
   ]
  },
  {
   "cell_type": "code",
   "execution_count": 32,
   "id": "cdc1ee08",
   "metadata": {},
   "outputs": [],
   "source": [
    "X = df.drop(\"label\",axis=1)\n",
    "y = df['label']\n",
    "X_train, X_test, y_train, y_test = train_test_split(X, y, test_size=0.25, random_state=69,stratify=y)"
   ]
  },
  {
   "cell_type": "code",
   "execution_count": 33,
   "id": "bd554747",
   "metadata": {},
   "outputs": [],
   "source": [
    "scaler = StandardScaler()\n",
    "X_train = scaler.fit_transform(X_train)\n",
    "X_test = scaler.transform(X_test)"
   ]
  },
  {
   "cell_type": "code",
   "execution_count": 34,
   "id": "aa4f6faa-584a-4e4c-9ebf-0ec8b6cafd7d",
   "metadata": {},
   "outputs": [],
   "source": [
    "import time"
   ]
  },
  {
   "cell_type": "code",
   "execution_count": 49,
   "id": "53dd3f4b-aff8-4ac1-8749-50e5ef473d7b",
   "metadata": {},
   "outputs": [
    {
     "name": "stdout",
     "output_type": "stream",
     "text": [
      "[0]\tvalidation_0-aucpr:0.96249\n",
      "Training time: 0.6191 seconds\n"
     ]
    }
   ],
   "source": [
    "xgb_model_improved = xgb.XGBClassifier(\n",
    "    objective='binary:logistic',  \n",
    "    eval_metric='aucpr',  \n",
    "    n_estimators=1,  \n",
    "    gamma=0,\n",
    "    learning_rate=0.1,\n",
    "    max_depth=3,\n",
    "    reg_lambda=1,\n",
    "    scale_pos_weight=0.3,\n",
    "    subsample=0.9,\n",
    "    colsample_bytree=0.5\n",
    ")\n",
    "\n",
    "start_time = time.time()\n",
    "\n",
    "xgb_model_improved.fit(\n",
    "    X_train, y_train,\n",
    "    eval_set=[(X_test, y_test)],  \n",
    "    verbose=True\n",
    ")\n",
    "\n",
    "end_time = time.time()\n",
    "print(f\"Training time: {end_time - start_time:.4f} seconds\")"
   ]
  },
  {
   "cell_type": "code",
   "execution_count": 38,
   "id": "cacf8464-9da5-4508-93bc-8df32f78787f",
   "metadata": {},
   "outputs": [
    {
     "name": "stdout",
     "output_type": "stream",
     "text": [
      "Accuracy     : 0.9348\n",
      "Precision    : 0.9335\n",
      "Recall       : 0.9954\n",
      "F1 Score     : 0.9634\n",
      "ROC-AUC Score: 0.8795\n",
      "\n",
      "Confusion Matrix:\n",
      "[[ 27215  22104]\n",
      " [  1425 310041]]\n",
      "\n",
      "Classification Report:\n",
      "              precision    recall  f1-score   support\n",
      "\n",
      "           0       0.95      0.55      0.70     49319\n",
      "           1       0.93      1.00      0.96    311466\n",
      "\n",
      "    accuracy                           0.93    360785\n",
      "   macro avg       0.94      0.77      0.83    360785\n",
      "weighted avg       0.94      0.93      0.93    360785\n",
      "\n"
     ]
    }
   ],
   "source": [
    "from sklearn.metrics import accuracy_score, precision_score, recall_score, f1_score, roc_auc_score, confusion_matrix, classification_report\n",
    "\n",
    "y_pred_probs = xgb_model_improved.predict_proba(X_test)[:, 1]\n",
    "y_pred = (y_pred_probs >= 0.5).astype(int)  \n",
    "\n",
    "# Step 2: Calculate metrics\n",
    "accuracy = accuracy_score(y_test, y_pred)\n",
    "precision = precision_score(y_test, y_pred)\n",
    "recall = recall_score(y_test, y_pred)\n",
    "f1 = f1_score(y_test, y_pred)\n",
    "roc_auc = roc_auc_score(y_test, y_pred_probs)\n",
    "conf_matrix = confusion_matrix(y_test, y_pred)\n",
    "\n",
    "# Step 3: Print metrics\n",
    "print(f\"Accuracy     : {accuracy:.4f}\")\n",
    "print(f\"Precision    : {precision:.4f}\")\n",
    "print(f\"Recall       : {recall:.4f}\")\n",
    "print(f\"F1 Score     : {f1:.4f}\")\n",
    "print(f\"ROC-AUC Score: {roc_auc:.4f}\")\n",
    "print(\"\\nConfusion Matrix:\")\n",
    "print(conf_matrix)\n",
    "\n",
    "# Optional: Full report\n",
    "print(\"\\nClassification Report:\")\n",
    "print(classification_report(y_test, y_pred))\n"
   ]
  },
  {
   "cell_type": "code",
   "execution_count": 43,
   "id": "abb9f656-5ef6-4368-923a-679dafabb13a",
   "metadata": {},
   "outputs": [
    {
     "name": "stdout",
     "output_type": "stream",
     "text": [
      "Model size: 9.42 KB\n",
      "Model size: 0.01 MB\n",
      "Model file deleted.\n"
     ]
    }
   ],
   "source": [
    "import joblib\n",
    "import os\n",
    "\n",
    "model_filename = 'xgb_model_improved.pkl'\n",
    "joblib.dump(xgb_model_improved, model_filename)\n",
    "\n",
    "model_size_bytes = os.path.getsize(model_filename)\n",
    "model_size_kb = model_size_bytes / 1024\n",
    "model_size_mb = model_size_kb / 1024\n",
    "\n",
    "print(f\"Model size: {model_size_kb:.2f} KB\")\n",
    "print(f\"Model size: {model_size_mb:.2f} MB\")\n",
    "\n",
    "# Step 4: Delete the file\n",
    "os.remove(model_filename)\n",
    "print(\"Model file deleted.\")\n"
   ]
  },
  {
   "cell_type": "code",
   "execution_count": 44,
   "id": "3de2b935-2bd4-43e5-9a5e-8a2eea0b9909",
   "metadata": {},
   "outputs": [],
   "source": [
    "X_test_10x = np.concatenate([X_test] * 10, axis=0)"
   ]
  },
  {
   "cell_type": "code",
   "execution_count": 47,
   "id": "2f00194e-dbcb-447a-9680-ae99263c757c",
   "metadata": {},
   "outputs": [
    {
     "name": "stdout",
     "output_type": "stream",
     "text": [
      "Inference time: 0.1820 seconds\n"
     ]
    }
   ],
   "source": [
    "# Measure inference time\n",
    "\n",
    "\n",
    "inference_start = time.time()\n",
    "y_pred = xgb_model_improved.predict(X_test_10x)\n",
    "inference_end = time.time()\n",
    "\n",
    "print(f\"Inference time: {inference_end - inference_start:.4f} seconds\")\n"
   ]
  },
  {
   "cell_type": "code",
   "execution_count": 50,
   "id": "2f6fdb10-ab96-432e-b6aa-5f773ca735f3",
   "metadata": {},
   "outputs": [
    {
     "name": "stdout",
     "output_type": "stream",
     "text": [
      "Training Time: 0.3308 seconds\n"
     ]
    }
   ],
   "source": [
    "\n",
    "\n",
    "\n",
    "\n",
    "nb_model = GaussianNB(var_smoothing=1e-9)\n",
    "\n",
    "start_time = time.time()\n",
    "nb_model.fit(X_train, y_train)\n",
    "end_time = time.time()\n",
    "\n",
    "training_time = end_time - start_time\n",
    "\n",
    "\n",
    "\n",
    "\n",
    "# Print results\n",
    "print(f\"Training Time: {training_time:.4f} seconds\")\n"
   ]
  },
  {
   "cell_type": "code",
   "execution_count": 147,
   "id": "94a60520-327c-48bb-b389-30dbbccefa11",
   "metadata": {},
   "outputs": [
    {
     "name": "stdout",
     "output_type": "stream",
     "text": [
      "Inference time: 3.3566 seconds\n"
     ]
    }
   ],
   "source": [
    "inference_start = time.time()\n",
    "y_pred = nb_model.predict(X_test_10x)\n",
    "inference_end = time.time()\n",
    "\n",
    "print(f\"Inference time: {inference_end - inference_start:.4f} seconds\")"
   ]
  },
  {
   "cell_type": "code",
   "execution_count": 51,
   "id": "5d73b501-1ed5-4bdc-8c1c-69fdf846c52f",
   "metadata": {},
   "outputs": [
    {
     "name": "stdout",
     "output_type": "stream",
     "text": [
      "\n",
      "🧠 Naïve Bayes Model Evaluation:\n",
      "Training Time : 0.3308 seconds\n",
      "Accuracy      : 0.9036\n",
      "Precision     : 0.9004\n",
      "Recall        : 0.9987\n",
      "F1 Score      : 0.9470\n",
      "ROC-AUC Score : 0.6508\n",
      "\n",
      "Confusion Matrix:\n",
      "[[ 14919  34400]\n",
      " [   392 311074]]\n",
      "\n",
      "Classification Report:\n",
      "              precision    recall  f1-score   support\n",
      "\n",
      "           0       0.97      0.30      0.46     49319\n",
      "           1       0.90      1.00      0.95    311466\n",
      "\n",
      "    accuracy                           0.90    360785\n",
      "   macro avg       0.94      0.65      0.70    360785\n",
      "weighted avg       0.91      0.90      0.88    360785\n",
      "\n",
      "\n",
      "Model Size    : 1.57 KB\n",
      "Model file deleted ✅\n"
     ]
    }
   ],
   "source": [
    "y_pred = nb_model.predict(X_test)\n",
    "y_pred_proba = nb_model.predict_proba(X_test)[:, 1]  \n",
    "\n",
    "accuracy = accuracy_score(y_test, y_pred)\n",
    "precision = precision_score(y_test, y_pred)\n",
    "recall = recall_score(y_test, y_pred)\n",
    "f1 = f1_score(y_test, y_pred)\n",
    "roc_auc = roc_auc_score(y_test, y_pred_proba)\n",
    "\n",
    "# 4. Print metrics\n",
    "print(f\"\\n🧠 Naïve Bayes Model Evaluation:\")\n",
    "print(f\"Training Time : {training_time:.4f} seconds\")\n",
    "print(f\"Accuracy      : {accuracy:.4f}\")\n",
    "print(f\"Precision     : {precision:.4f}\")\n",
    "print(f\"Recall        : {recall:.4f}\")\n",
    "print(f\"F1 Score      : {f1:.4f}\")\n",
    "print(f\"ROC-AUC Score : {roc_auc:.4f}\")\n",
    "print(\"\\nConfusion Matrix:\")\n",
    "print(confusion_matrix(y_test, y_pred))\n",
    "print(\"\\nClassification Report:\")\n",
    "print(classification_report(y_test, y_pred))\n",
    "\n",
    "model_filename = \"nb_model.pkl\"\n",
    "joblib.dump(nb_model, model_filename)\n",
    "model_size_bytes = os.path.getsize(model_filename)\n",
    "print(f\"\\nModel Size    : {model_size_bytes / 1024:.2f} KB\")\n",
    "\n",
    "os.remove(model_filename)\n",
    "print(\"Model file deleted ✅\")"
   ]
  },
  {
   "cell_type": "code",
   "execution_count": 116,
   "id": "446335ef-f21e-411e-b235-cbe019e629e9",
   "metadata": {},
   "outputs": [
    {
     "name": "stdout",
     "output_type": "stream",
     "text": [
      "357000\n",
      "360785\n"
     ]
    }
   ],
   "source": [
    "X_train=X_train[:357000]\n",
    "y_train=y_train[:357000]\n",
    "print(len(X_train))\n",
    "print(len(X_test))"
   ]
  },
  {
   "cell_type": "code",
   "execution_count": 117,
   "id": "8fd84743-a689-422c-aa37-b33c72b72669",
   "metadata": {},
   "outputs": [
    {
     "name": "stdout",
     "output_type": "stream",
     "text": [
      "[0]\tvalidation_0-aucpr:0.54860\n",
      "Training time: 0.3316 seconds\n"
     ]
    }
   ],
   "source": [
    "xgb_model_improved = xgb.XGBClassifier(\n",
    "    objective='binary:logistic',  \n",
    "    eval_metric='aucpr',  \n",
    "    n_estimators=1,  \n",
    "    gamma=0,\n",
    "    learning_rate=0.1,\n",
    "    max_depth=3,\n",
    "    reg_lambda=1,\n",
    "    scale_pos_weight=0.3,\n",
    "    subsample=0.9,\n",
    "    colsample_bytree=0.5\n",
    ")\n",
    "\n",
    "start_time = time.time()\n",
    "\n",
    "xgb_model_improved.fit(\n",
    "    X_train, y_train,\n",
    "    eval_set=[(X_test, y_test)],  \n",
    "    verbose=True\n",
    ")\n",
    "\n",
    "end_time = time.time()\n",
    "print(f\"Training time: {end_time - start_time:.4f} seconds\")"
   ]
  },
  {
   "cell_type": "code",
   "execution_count": 118,
   "id": "ab797d40-0dc8-4204-9e11-3530fc29a451",
   "metadata": {},
   "outputs": [
    {
     "name": "stdout",
     "output_type": "stream",
     "text": [
      "Inference time: 0.0406 seconds\n"
     ]
    }
   ],
   "source": [
    "\n",
    "\n",
    "inference_start = time.time()\n",
    "y_pred = xgb_model_improved.predict(X_test)\n",
    "inference_end = time.time()\n",
    "\n",
    "print(f\"Inference time: {inference_end - inference_start:.4f} seconds\")\n"
   ]
  },
  {
   "cell_type": "code",
   "execution_count": 119,
   "id": "7c00c1b6-31c7-4e96-ba2f-82000514dce8",
   "metadata": {},
   "outputs": [
    {
     "name": "stdout",
     "output_type": "stream",
     "text": [
      "Training Time: 0.1173 seconds\n"
     ]
    }
   ],
   "source": [
    "\n",
    "\n",
    "\n",
    "\n",
    "nb_model = GaussianNB(var_smoothing=1e-9)\n",
    "\n",
    "start_time = time.time()\n",
    "nb_model.fit(X_train, y_train)\n",
    "end_time = time.time()\n",
    "\n",
    "training_time = end_time - start_time\n",
    "\n",
    "\n",
    "\n",
    "print(f\"Training Time: {training_time:.4f} seconds\")\n"
   ]
  },
  {
   "cell_type": "code",
   "execution_count": 121,
   "id": "bedf33c1-387b-43be-999d-1d4444b3125b",
   "metadata": {},
   "outputs": [
    {
     "name": "stdout",
     "output_type": "stream",
     "text": [
      "Inference time: 0.2972 seconds\n"
     ]
    }
   ],
   "source": [
    "inference_start = time.time()\n",
    "y_pred = nb_model.predict(X_test)\n",
    "inference_end = time.time()\n",
    "\n",
    "print(f\"Inference time: {inference_end - inference_start:.4f} seconds\")"
   ]
  },
  {
   "cell_type": "markdown",
   "id": "6e475546",
   "metadata": {},
   "source": [
    "   "
   ]
  },
  {
   "cell_type": "code",
   "execution_count": 125,
   "id": "e4650076-9295-4ba7-be22-96511e415e33",
   "metadata": {},
   "outputs": [
    {
     "name": "stdout",
     "output_type": "stream",
     "text": [
      "35000\n"
     ]
    }
   ],
   "source": [
    "X_train=X_train[:35000]\n",
    "y_train=y_train[:35000]\n",
    "X_test=X_test[:35000]\n",
    "y_test=y_test[:35000]\n",
    "print(len(X_test))"
   ]
  },
  {
   "cell_type": "code",
   "execution_count": 126,
   "id": "84241c1b-2c6d-44af-8081-2d8dc6a4b528",
   "metadata": {},
   "outputs": [
    {
     "data": {
      "text/plain": [
       "35000"
      ]
     },
     "execution_count": 126,
     "metadata": {},
     "output_type": "execute_result"
    }
   ],
   "source": [
    "len(X_train)"
   ]
  },
  {
   "cell_type": "code",
   "execution_count": 12,
   "id": "7642a5f6",
   "metadata": {},
   "outputs": [],
   "source": [
    "import time"
   ]
  },
  {
   "cell_type": "code",
   "execution_count": 127,
   "id": "0f978c01",
   "metadata": {},
   "outputs": [
    {
     "name": "stdout",
     "output_type": "stream",
     "text": [
      "[0]\tvalidation_0-aucpr:0.53355\n",
      "Training time: 0.0676 seconds\n"
     ]
    }
   ],
   "source": [
    "\n",
    "xgb_model_improved = xgb.XGBClassifier(\n",
    "    objective='binary:logistic',  \n",
    "    eval_metric='aucpr',  \n",
    "    n_estimators=1,  \n",
    "    gamma=0,\n",
    "    learning_rate=0.1,\n",
    "    max_depth=3,\n",
    "    reg_lambda=1,\n",
    "    scale_pos_weight=0.3,\n",
    "    subsample=0.9,\n",
    "    colsample_bytree=0.5\n",
    ")\n",
    "\n",
    "start_time = time.time()\n",
    "\n",
    "xgb_model_improved.fit(\n",
    "    X_train, y_train,\n",
    "    eval_set=[(X_test, y_test)],  \n",
    "    verbose=True\n",
    ")\n",
    "\n",
    "end_time = time.time()\n",
    "print(f\"Training time: {end_time - start_time:.4f} seconds\")"
   ]
  },
  {
   "cell_type": "code",
   "execution_count": 130,
   "id": "e8b35eb5-3530-4f0b-916e-ef9b4bce2560",
   "metadata": {},
   "outputs": [
    {
     "name": "stdout",
     "output_type": "stream",
     "text": [
      "Inference time: 0.0226 seconds\n"
     ]
    }
   ],
   "source": [
    "\n",
    "\n",
    "inference_start = time.time()\n",
    "y_pred = xgb_model_improved.predict(X_test)\n",
    "inference_end = time.time()\n",
    "\n",
    "print(f\"Inference time: {inference_end - inference_start:.4f} seconds\")\n"
   ]
  },
  {
   "cell_type": "code",
   "execution_count": 131,
   "id": "e3eaba58-766e-47e4-907b-a6d584a59c35",
   "metadata": {},
   "outputs": [
    {
     "name": "stdout",
     "output_type": "stream",
     "text": [
      "Training Time: 0.0137 seconds\n"
     ]
    }
   ],
   "source": [
    "from sklearn.naive_bayes import GaussianNB\n",
    "\n",
    "\n",
    "\n",
    "\n",
    "nb_model = GaussianNB(var_smoothing=1e-9)\n",
    "\n",
    "start_time = time.time()\n",
    "nb_model.fit(X_train, y_train)\n",
    "end_time = time.time()\n",
    "\n",
    "training_time = end_time - start_time\n",
    "\n",
    "\n",
    "\n",
    "\n",
    "# Print results\n",
    "print(f\"Training Time: {training_time:.4f} seconds\")\n"
   ]
  },
  {
   "cell_type": "code",
   "execution_count": 132,
   "id": "a6801c0b-0582-4b64-a288-0c7ef7c0a02c",
   "metadata": {},
   "outputs": [
    {
     "name": "stdout",
     "output_type": "stream",
     "text": [
      "Inference time: 0.0209 seconds\n"
     ]
    }
   ],
   "source": [
    "inference_start = time.time()\n",
    "y_pred = nb_model.predict(X_test)\n",
    "inference_end = time.time()\n",
    "\n",
    "print(f\"Inference time: {inference_end - inference_start:.4f} seconds\")"
   ]
  }
 ],
 "metadata": {
  "kernelspec": {
   "display_name": "Python 3 (ipykernel)",
   "language": "python",
   "name": "python3"
  },
  "language_info": {
   "codemirror_mode": {
    "name": "ipython",
    "version": 3
   },
   "file_extension": ".py",
   "mimetype": "text/x-python",
   "name": "python",
   "nbconvert_exporter": "python",
   "pygments_lexer": "ipython3",
   "version": "3.10.12"
  }
 },
 "nbformat": 4,
 "nbformat_minor": 5
}
